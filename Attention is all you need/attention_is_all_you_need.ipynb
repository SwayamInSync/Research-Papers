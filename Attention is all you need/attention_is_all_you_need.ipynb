{
  "nbformat": 4,
  "nbformat_minor": 0,
  "metadata": {
    "colab": {
      "provenance": []
    },
    "kernelspec": {
      "name": "python3",
      "display_name": "Python 3"
    },
    "language_info": {
      "name": "python"
    },
    "gpuClass": "standard",
    "accelerator": "GPU"
  },
  "cells": [
    {
      "cell_type": "code",
      "execution_count": 1,
      "metadata": {
        "id": "O5w0aH19yplv"
      },
      "outputs": [],
      "source": [
        "import torch\n",
        "import torch.nn as nn\n",
        "import numpy as np"
      ]
    },
    {
      "cell_type": "markdown",
      "source": [
        "# Self Multi headed attention\n",
        "\n",
        "<img src=\"https://d2beiqkhq929f0.cloudfront.net/public_assets/assets/000/020/062/original/Screenshot_2022-11-18_at_9.18.24_AM.png?1668744025\" widht=800>"
      ],
      "metadata": {
        "id": "WZpyMVky5VOV"
      }
    },
    {
      "cell_type": "code",
      "source": [
        "class MHSelfAttention(nn.Module):\n",
        "  def __init__(self, embed_size, num_heads):\n",
        "    super(MHSelfAttention, self).__init__()\n",
        "    self.embed_size = embed_size\n",
        "    self.num_heads = num_heads\n",
        "    self.head_dim = self.embed_size // self.num_heads\n",
        "\n",
        "    assert (self.head_dim * num_heads == embed_size)\n",
        "    # defining K, Q and V matrices (embed_size, embed_size)\n",
        "    self.V = nn.Linear(embed_size, embed_size)\n",
        "    self.K = nn.Linear(embed_size, embed_size)\n",
        "    self.Q = nn.Linear(embed_size, embed_size)\n",
        "\n",
        "    self.softmax = nn.Softmax(dim=3)\n",
        "    \n",
        "    # takes the concated heads as input (all heads) (Multi head layer) and results some linear mapped output of embed_size\n",
        "    # self.head_dim * num_heads == embed_size\n",
        "    self.fc_out = nn.Linear(self.head_dim * num_heads, embed_size)\n",
        "\n",
        "  def forward(self, v, k, q, mask=None):\n",
        "\n",
        "    # keys, vlaues, queries: [B, seq, embed_size]\n",
        "    keys = self.K(k)\n",
        "    values = self.V(v)\n",
        "    queries = self.Q(q)\n",
        "\n",
        "    # keys, vlaues, queries: [B, seq, num_heads, head_dim]\n",
        "    batch_size  = keys.shape[0]\n",
        "    value_len, key_len, query_len = values.shape[1], keys.shape[1], queries.shape[1]\n",
        "\n",
        "\n",
        "    # lengths of keys, values and queries can be change because\n",
        "    # in Decoder block attention was calculated using Query of decoder but keys and values of encoder ouput\n",
        "    keys = keys.reshape(batch_size, key_len, self.num_heads, self.head_dim)\n",
        "    values = values.reshape(batch_size, value_len, self.num_heads, self.head_dim)\n",
        "    queries = queries.reshape(batch_size, query_len, self.num_heads, self.head_dim)\n",
        "\n",
        "    energies = torch.einsum(\"nqhd,nkhd->nhqk\", [queries, keys])\n",
        "    # print(energies.shape, mask.shape)\n",
        "    if mask is not None:\n",
        "      # print(energies.shape)\n",
        "      energies = energies.masked_fill(mask == 0, float(\"-inf\"))\n",
        "\n",
        "    attention = self.softmax(energies/(self.embed_size)**0.5)\n",
        "    out = torch.einsum('nhql,nlhd->nqhd', [attention, values])\n",
        "    out = out.reshape(batch_size, query_len, embed_size) # concating all the multiple attentions\n",
        "    out = self.fc_out(out)\n",
        "    # out: [B, query_len, embed_size]\n",
        "    return out"
      ],
      "metadata": {
        "id": "HZGRQ3Qxy2YF"
      },
      "execution_count": 2,
      "outputs": []
    },
    {
      "cell_type": "markdown",
      "source": [
        "# Block\n",
        "\n",
        "<img src='https://d2beiqkhq929f0.cloudfront.net/public_assets/assets/000/020/094/original/Screenshot_2022-11-18_at_2.50.50_PM.png?1668763324' width=200 height=200>"
      ],
      "metadata": {
        "id": "VM3dJBonC9Xd"
      }
    },
    {
      "cell_type": "code",
      "source": [
        "class Block(nn.Module):\n",
        "  def __init__(self, embed_size, num_heads, dropout, forward_expansion=4):\n",
        "    super(Block, self).__init__()\n",
        "    self.attention = MHSelfAttention(embed_size, num_heads)\n",
        "    self.norm_layer1 = nn.LayerNorm(embed_size)\n",
        "    self.norm_layer2 = nn.LayerNorm(embed_size)\n",
        "\n",
        "    self.feed_forward = nn.Sequential(\n",
        "        nn.Linear(embed_size, forward_expansion*embed_size),\n",
        "        nn.ReLU(),\n",
        "        nn.Linear(forward_expansion * embed_size, embed_size),\n",
        "    )\n",
        "\n",
        "    self.dropout = nn.Dropout(dropout)\n",
        "\n",
        "  def forward(self, value, key, query, mask):\n",
        "    attention = self.attention(value, key, query, mask)\n",
        "    norm1 = self.norm_layer1(attention + query)\n",
        "    x = self.dropout(norm1)\n",
        "    forward = self.feed_forward(x)\n",
        "    out = self.norm_layer2(forward + x)\n",
        "    return out"
      ],
      "metadata": {
        "id": "b-VQsSpjAXY8"
      },
      "execution_count": 3,
      "outputs": []
    },
    {
      "cell_type": "markdown",
      "source": [
        "# Positional Encoding\n",
        "<img src=\"https://d2beiqkhq929f0.cloudfront.net/public_assets/assets/000/020/097/original/Screenshot_2022-11-18_at_3.37.35_PM.png?1668766059\">"
      ],
      "metadata": {
        "id": "rllFBNX9Na58"
      }
    },
    {
      "cell_type": "code",
      "source": [
        "class PositionalEncoding(nn.Module):\n",
        "  def __init__(self, embeds, max_len, device):\n",
        "    super(PositionalEncoding, self).__init__()\n",
        "    self.embed_size = embeds\n",
        "    self.max_len = max_len\n",
        "    self.device = device\n",
        "\n",
        "  def forward(self, x):\n",
        "    encoding = torch.zeros(self.max_len, self.embed_size, device=self.device)\n",
        "    # encoding.requires_grad = False\n",
        "    pos = torch.arange(0, self.max_len, device=self.device)\n",
        "    pos = pos.float().unsqueeze(dim=1)\n",
        "    i = torch.arange(0, self.embed_size, step=2, device=self.device).float()\n",
        "\n",
        "    encoding[:, 0::2] = torch.sin(pos / (10000 ** (i / self.embed_size)))\n",
        "    encoding[:, 1::2] = torch.cos(pos / (10000 ** (i / self.embed_size)))\n",
        "    \n",
        "    batch_size, seq_len = x.size()\n",
        "    return encoding[:seq_len, :].expand(batch_size, seq_len, self.embed_size)\n"
      ],
      "metadata": {
        "id": "1WImBuOITAWF"
      },
      "execution_count": 4,
      "outputs": []
    },
    {
      "cell_type": "markdown",
      "source": [
        "# Encoder\n",
        "\n",
        "<img src=\"https://d2beiqkhq929f0.cloudfront.net/public_assets/assets/000/020/095/original/Screenshot_2022-11-18_at_2.58.42_PM.png?1668763726\" width=300 height=400>"
      ],
      "metadata": {
        "id": "zICnpFkAEQtH"
      }
    },
    {
      "cell_type": "code",
      "source": [
        "class Encoder(nn.Module):\n",
        "  def __init__(self, src_vocab_size, embed_size, num_layers, heads, device, forward_expansion, dropout,max_length):\n",
        "    super(Encoder, self).__init__()\n",
        "    self.embed_size = embed_size\n",
        "    self.device = device\n",
        "\n",
        "    self.word_embedding = nn.Embedding(src_vocab_size, embed_size)\n",
        "    self.positional_encoding = PositionalEncoding(embed_size, max_length, device)\n",
        "\n",
        "    self.layers = nn.ModuleList([\n",
        "        Block(embed_size,heads,dropout=dropout,forward_expansion=forward_expansion) for _ in range(num_layers)\n",
        "        ])\n",
        "\n",
        "    self.dropout = nn.Dropout(dropout)\n",
        "\n",
        "  def forward(self, x, mask):\n",
        "    batch_size, seq_length = x.shape\n",
        "    out = self.dropout(\n",
        "        (self.word_embedding(x) + self.positional_encoding(x))\n",
        "    )\n",
        "\n",
        "    # for encoder key, value and query will be same as input (or output of prev encoder layer)\n",
        "    for layer in self.layers:\n",
        "        out = layer(out, out, out, mask)\n",
        "\n",
        "    return out"
      ],
      "metadata": {
        "id": "1MWXM7zrEyGH"
      },
      "execution_count": 5,
      "outputs": []
    },
    {
      "cell_type": "markdown",
      "source": [
        "# Decoder Block\n",
        "\n",
        "<img src=\"https://d2beiqkhq929f0.cloudfront.net/public_assets/assets/000/020/099/original/Screenshot_2022-11-18_at_4.02.02_PM.png?1668767521\" height=400>"
      ],
      "metadata": {
        "id": "z3mjMVRbS997"
      }
    },
    {
      "cell_type": "code",
      "source": [
        "class DecoderBlock(nn.Module):\n",
        "  def __init__(self, embed_size, num_heads, forward_expansion, dropout, device):\n",
        "      super(DecoderBlock, self).__init__()\n",
        "      self.norm = nn.LayerNorm(embed_size)\n",
        "      self.attention = MHSelfAttention(embed_size, num_heads)\n",
        "      self.block = Block(\n",
        "          embed_size, num_heads, dropout, forward_expansion\n",
        "      )\n",
        "      self.dropout = nn.Dropout(dropout)\n",
        "\n",
        "  def forward(self, x, value, key, src_mask, trg_mask):\n",
        "    # using src_mask so that there will be no extra calculations for 0 padded indices in sentence\n",
        "      attention = self.attention(x, x, x, trg_mask)\n",
        "      query = self.dropout(self.norm(attention + x))\n",
        "      out = self.block(value, key, query, src_mask)\n",
        "      return out"
      ],
      "metadata": {
        "id": "08d9TJmpRBJ0"
      },
      "execution_count": 6,
      "outputs": []
    },
    {
      "cell_type": "markdown",
      "source": [
        "# Decoder\n",
        "<img src=\"https://d2beiqkhq929f0.cloudfront.net/public_assets/assets/000/020/098/original/Screenshot_2022-11-18_at_4.00.38_PM.png?1668767466\" height=500>"
      ],
      "metadata": {
        "id": "pxbeMe06SwYZ"
      }
    },
    {
      "cell_type": "code",
      "source": [
        "class Decoder(nn.Module):\n",
        "  def __init__(self, trg_vocab_size, embed_size, num_layers, num_heads, forward_expansion, dropout, device, max_length):\n",
        "    super(Decoder, self).__init__()\n",
        "    self.device = device\n",
        "    self.word_embeddings = nn.Embedding(trg_vocab_size, embed_size)\n",
        "    self.positional_encoding = PositionalEncoding(embed_size, max_length, device)\n",
        "\n",
        "    self.layers = nn.ModuleList(\n",
        "        [\n",
        "            DecoderBlock(embed_size, num_heads, forward_expansion, dropout, device) for _ in range(num_layers)\n",
        "        ]\n",
        "    )\n",
        "    self.fc_out = nn.Linear(embed_size, trg_vocab_size)\n",
        "    self.dropout = nn.Dropout(dropout)\n",
        "\n",
        "  def forward(self, x, encoder_out, src_mask, trg_mask):\n",
        "    batch_size, seq_length = x.shape\n",
        "\n",
        "    x = self.dropout((self.word_embeddings(x) + self.positional_encoding(x)))\n",
        "\n",
        "    for layer in self.layers:\n",
        "        x = layer(x, encoder_out, encoder_out, src_mask, trg_mask)\n",
        "\n",
        "    out = self.fc_out(x)\n",
        "\n",
        "    return out\n"
      ],
      "metadata": {
        "id": "G2Q6BAuZRmkI"
      },
      "execution_count": 7,
      "outputs": []
    },
    {
      "cell_type": "markdown",
      "source": [
        "# Combining all together into Transformer\n",
        "\n",
        "<img src=\"https://d2beiqkhq929f0.cloudfront.net/public_assets/assets/000/020/124/original/Screenshot_2022-11-18_at_9.23.52_PM.png?1668786833\" width=500 height=500>"
      ],
      "metadata": {
        "id": "XJEprJ0zYebP"
      }
    },
    {
      "cell_type": "code",
      "source": [
        "class Transformer(nn.Module):\n",
        "  def __init__(\n",
        "          self, src_vocab_size, trg_vocab_size, src_pad_idx, trg_pad_idx, embed_size, \n",
        "          num_layers, forward_expansion, num_heads, dropout,device,max_length):\n",
        "    super(Transformer, self).__init__()\n",
        "\n",
        "    self.src_pad_idx = src_pad_idx\n",
        "    self.trg_pad_idx = trg_pad_idx\n",
        "    self.device = device\n",
        "    self.num_heads = num_heads\n",
        "    self.head_dim = embed_size//num_heads\n",
        "\n",
        "    self.encoder = Encoder(src_vocab_size,embed_size,num_layers,num_heads,\n",
        "                           device,forward_expansion,dropout,max_length)\n",
        "\n",
        "    self.decoder = Decoder(trg_vocab_size,embed_size,num_layers,num_heads,\n",
        "                           forward_expansion,dropout,device,max_length,)\n",
        "    \n",
        "  def make_source_mask(self, src):\n",
        "    batch_size, seq_len = src.shape\n",
        "    src_mask = (src != self.src_pad_idx).unsqueeze(1).unsqueeze(2)\n",
        "    # (N, 1, 1, src_len)\n",
        "    return src_mask.to(self.device)\n",
        "\n",
        "  def make_target_mask(self, trg):\n",
        "    N, trg_len = trg.shape\n",
        "    trg_mask = torch.tril(torch.ones((trg_len, trg_len))).expand(N, 1, trg_len, trg_len)\n",
        "\n",
        "    return trg_mask.to(self.device)\n",
        "\n",
        "  def forward(self, source, target):\n",
        "    src_mask = self.make_source_mask(source)\n",
        "    trg_mask = self.make_target_mask(target)\n",
        "    enc_src = self.encoder(source, src_mask)\n",
        "    out = self.decoder(target, enc_src, src_mask, trg_mask)\n",
        "    return out"
      ],
      "metadata": {
        "id": "0HNKswkJkOqC"
      },
      "execution_count": 8,
      "outputs": []
    },
    {
      "cell_type": "code",
      "source": [
        "seq_len = 12\n",
        "batch_size = 32\n",
        "embed_size = 512 # defined in paper\n",
        "num_heads = 8 # defined in paper\n",
        "num_layers = 6 # define in paper\n",
        "src_vocab_size = 1024\n",
        "trg_vocab_size = 2048\n",
        "forward_expansion = 4\n",
        "src_pad_idx = 0\n",
        "trg_pad_idx = 0\n",
        "dropout = 0.10\n",
        "device = torch.device('cuda' if torch.cuda.is_available() else 'cpu')\n",
        "\n",
        "inputs = torch.randint(low=0, high=10, size=(batch_size, seq_len)).to(device)\n",
        "target = torch.randint(low=0, high=10, size=(batch_size, seq_len+3)).to(device)\n",
        "\n",
        "# max length is needed to perform the positional encoding\n",
        "max_length = 1000\n",
        "\n",
        "model = Transformer(src_vocab_size, trg_vocab_size, src_pad_idx, trg_pad_idx, \n",
        "                    embed_size, num_layers, forward_expansion, num_heads, dropout, device, max_length).to(device)\n",
        "preds = model(inputs, target)"
      ],
      "metadata": {
        "id": "xeDgTv8qm7wA"
      },
      "execution_count": 9,
      "outputs": []
    },
    {
      "cell_type": "code",
      "source": [
        "preds.shape, preds.isnan().all()"
      ],
      "metadata": {
        "colab": {
          "base_uri": "https://localhost:8080/"
        },
        "id": "Mk9BWdlCWf1X",
        "outputId": "ff80b38b-3fd1-4534-9efa-2981a8d47fcd"
      },
      "execution_count": 10,
      "outputs": [
        {
          "output_type": "execute_result",
          "data": {
            "text/plain": [
              "(torch.Size([32, 15, 2048]), tensor(False))"
            ]
          },
          "metadata": {},
          "execution_count": 10
        }
      ]
    },
    {
      "cell_type": "code",
      "source": [],
      "metadata": {
        "id": "DHAhEZjCWta1"
      },
      "execution_count": 10,
      "outputs": []
    }
  ]
}